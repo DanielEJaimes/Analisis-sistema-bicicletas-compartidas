{
 "cells": [
  {
   "cell_type": "markdown",
   "id": "f0b8547c",
   "metadata": {},
   "source": [
    "## Caso de estudio"
   ]
  },
  {
   "cell_type": "markdown",
   "id": "314c42db",
   "metadata": {},
   "source": [
    "**Cyclistic necesita una estrategia de marketing basada en datos para convertir usuarios ocasionales en miembros anuales.**\n",
    "\n",
    "**Objetivo:** Maximizar el número de suscripciones anuales para el éxito futuro de la empresa.\n",
    "\n",
    "**Desafío:** Identificar las diferencias en el uso de bicicletas entre usuarios ocasionales y miembros anuales.\n",
    "\n",
    "**Estrategia:** Analizar datos de uso y crear visualizaciones profesionales para respaldar las recomendaciones."
   ]
  },
  {
   "cell_type": "markdown",
   "id": "b9d346a8",
   "metadata": {},
   "source": [
    "## Cargue"
   ]
  },
  {
   "cell_type": "code",
   "execution_count": 1,
   "id": "72baa6e0",
   "metadata": {},
   "outputs": [],
   "source": [
    "import pandas as pd"
   ]
  },
  {
   "cell_type": "markdown",
   "id": "a7bf830c",
   "metadata": {},
   "source": [
    "La información fue obtenida desde https://divvybikes.com/system-data, esta información es de uso libre y pre-procesada excluyendo viajes del staff e información personal de los usuarios. "
   ]
  },
  {
   "cell_type": "markdown",
   "id": "4de7d921",
   "metadata": {},
   "source": [
    "Enlace de descarga: `https://divvy-tripdata.s3.amazonaws.com/202406-divvy-tripdata.zip`"
   ]
  },
  {
   "cell_type": "code",
   "execution_count": 2,
   "id": "0063514a",
   "metadata": {
    "scrolled": false
   },
   "outputs": [
    {
     "name": "stdout",
     "output_type": "stream",
     "text": [
      "Cantidad de registros:  710721\n"
     ]
    }
   ],
   "source": [
    "df = pd.read_csv(\"data/202406-divvy-tripdata-raw.csv\")\n",
    "print(\"Cantidad de registros: \",len(df.index))"
   ]
  },
  {
   "cell_type": "markdown",
   "id": "b9a8f2f1",
   "metadata": {},
   "source": [
    "La información contiene registros de Junio del año 2024 con datos como:\n",
    "- Día y fecha de inicio del viaje\n",
    "- Día y fecha de fin del viaje\n",
    "- Estación de inicio del viaje\n",
    "- Estación de finalización del viaje\n",
    "- Tipo de ciclista (Miembro, Único viaje, y pase diario)"
   ]
  },
  {
   "cell_type": "code",
   "execution_count": 3,
   "id": "e1ca047c",
   "metadata": {
    "scrolled": true
   },
   "outputs": [
    {
     "data": {
      "text/html": [
       "<div>\n",
       "<style scoped>\n",
       "    .dataframe tbody tr th:only-of-type {\n",
       "        vertical-align: middle;\n",
       "    }\n",
       "\n",
       "    .dataframe tbody tr th {\n",
       "        vertical-align: top;\n",
       "    }\n",
       "\n",
       "    .dataframe thead th {\n",
       "        text-align: right;\n",
       "    }\n",
       "</style>\n",
       "<table border=\"1\" class=\"dataframe\">\n",
       "  <thead>\n",
       "    <tr style=\"text-align: right;\">\n",
       "      <th></th>\n",
       "      <th>ride_id</th>\n",
       "      <th>rideable_type</th>\n",
       "      <th>started_at</th>\n",
       "      <th>ended_at</th>\n",
       "      <th>start_station_name</th>\n",
       "      <th>start_station_id</th>\n",
       "      <th>end_station_name</th>\n",
       "      <th>end_station_id</th>\n",
       "      <th>start_lat</th>\n",
       "      <th>start_lng</th>\n",
       "      <th>end_lat</th>\n",
       "      <th>end_lng</th>\n",
       "      <th>member_casual</th>\n",
       "    </tr>\n",
       "  </thead>\n",
       "  <tbody>\n",
       "    <tr>\n",
       "      <th>0</th>\n",
       "      <td>CDE6023BE6B11D2F</td>\n",
       "      <td>electric_bike</td>\n",
       "      <td>2024-06-11 17:20:06.289</td>\n",
       "      <td>2024-06-11 17:21:39.464</td>\n",
       "      <td>NaN</td>\n",
       "      <td>NaN</td>\n",
       "      <td>NaN</td>\n",
       "      <td>NaN</td>\n",
       "      <td>41.89</td>\n",
       "      <td>-87.65</td>\n",
       "      <td>41.89</td>\n",
       "      <td>-87.65</td>\n",
       "      <td>casual</td>\n",
       "    </tr>\n",
       "    <tr>\n",
       "      <th>1</th>\n",
       "      <td>462B48CD292B6A18</td>\n",
       "      <td>electric_bike</td>\n",
       "      <td>2024-06-11 17:19:21.567</td>\n",
       "      <td>2024-06-11 17:19:36.377</td>\n",
       "      <td>NaN</td>\n",
       "      <td>NaN</td>\n",
       "      <td>NaN</td>\n",
       "      <td>NaN</td>\n",
       "      <td>41.89</td>\n",
       "      <td>-87.65</td>\n",
       "      <td>41.89</td>\n",
       "      <td>-87.65</td>\n",
       "      <td>casual</td>\n",
       "    </tr>\n",
       "    <tr>\n",
       "      <th>2</th>\n",
       "      <td>9CFB6A858D23ABF7</td>\n",
       "      <td>electric_bike</td>\n",
       "      <td>2024-06-11 17:25:27.089</td>\n",
       "      <td>2024-06-11 17:30:13.035</td>\n",
       "      <td>NaN</td>\n",
       "      <td>NaN</td>\n",
       "      <td>NaN</td>\n",
       "      <td>NaN</td>\n",
       "      <td>41.93</td>\n",
       "      <td>-87.65</td>\n",
       "      <td>41.94</td>\n",
       "      <td>-87.65</td>\n",
       "      <td>casual</td>\n",
       "    </tr>\n",
       "    <tr>\n",
       "      <th>3</th>\n",
       "      <td>6365EFEB64231153</td>\n",
       "      <td>electric_bike</td>\n",
       "      <td>2024-06-11 11:53:50.769</td>\n",
       "      <td>2024-06-11 12:08:13.382</td>\n",
       "      <td>NaN</td>\n",
       "      <td>NaN</td>\n",
       "      <td>NaN</td>\n",
       "      <td>NaN</td>\n",
       "      <td>41.88</td>\n",
       "      <td>-87.64</td>\n",
       "      <td>41.88</td>\n",
       "      <td>-87.64</td>\n",
       "      <td>casual</td>\n",
       "    </tr>\n",
       "    <tr>\n",
       "      <th>4</th>\n",
       "      <td>BA0323C33134CBA8</td>\n",
       "      <td>electric_bike</td>\n",
       "      <td>2024-06-11 00:11:08.237</td>\n",
       "      <td>2024-06-11 00:11:22.998</td>\n",
       "      <td>NaN</td>\n",
       "      <td>NaN</td>\n",
       "      <td>NaN</td>\n",
       "      <td>NaN</td>\n",
       "      <td>41.94</td>\n",
       "      <td>-87.64</td>\n",
       "      <td>41.94</td>\n",
       "      <td>-87.64</td>\n",
       "      <td>casual</td>\n",
       "    </tr>\n",
       "  </tbody>\n",
       "</table>\n",
       "</div>"
      ],
      "text/plain": [
       "            ride_id  rideable_type               started_at  \\\n",
       "0  CDE6023BE6B11D2F  electric_bike  2024-06-11 17:20:06.289   \n",
       "1  462B48CD292B6A18  electric_bike  2024-06-11 17:19:21.567   \n",
       "2  9CFB6A858D23ABF7  electric_bike  2024-06-11 17:25:27.089   \n",
       "3  6365EFEB64231153  electric_bike  2024-06-11 11:53:50.769   \n",
       "4  BA0323C33134CBA8  electric_bike  2024-06-11 00:11:08.237   \n",
       "\n",
       "                  ended_at start_station_name start_station_id  \\\n",
       "0  2024-06-11 17:21:39.464                NaN              NaN   \n",
       "1  2024-06-11 17:19:36.377                NaN              NaN   \n",
       "2  2024-06-11 17:30:13.035                NaN              NaN   \n",
       "3  2024-06-11 12:08:13.382                NaN              NaN   \n",
       "4  2024-06-11 00:11:22.998                NaN              NaN   \n",
       "\n",
       "  end_station_name end_station_id  start_lat  start_lng  end_lat  end_lng  \\\n",
       "0              NaN            NaN      41.89     -87.65    41.89   -87.65   \n",
       "1              NaN            NaN      41.89     -87.65    41.89   -87.65   \n",
       "2              NaN            NaN      41.93     -87.65    41.94   -87.65   \n",
       "3              NaN            NaN      41.88     -87.64    41.88   -87.64   \n",
       "4              NaN            NaN      41.94     -87.64    41.94   -87.64   \n",
       "\n",
       "  member_casual  \n",
       "0        casual  \n",
       "1        casual  \n",
       "2        casual  \n",
       "3        casual  \n",
       "4        casual  "
      ]
     },
     "execution_count": 3,
     "metadata": {},
     "output_type": "execute_result"
    }
   ],
   "source": [
    "df.head()"
   ]
  },
  {
   "cell_type": "markdown",
   "id": "b9230621",
   "metadata": {},
   "source": [
    "Los registros están conformados por 13 columnas\n",
    "- ride_id: Código del viaje\n",
    "- rideable_type: Tipo de bicicleta\n",
    "- started_at: Fecha y hora de inicio\n",
    "- ended_at: Fecha y hora de fin\n",
    "- start_station_name: Nombre estación de inicio\n",
    "- end_station_name: Nombre estación de fin\n",
    "- start_station_id: Código estación de inicio\n",
    "- end_station_id: Código estación de fin\n",
    "- start_lat: Latitud de inicio\n",
    "- start_lng: longitud de inicio\n",
    "- end_lat: Latitud de fin\n",
    "- end_lng: longitud de fin\n",
    "- member_casual: Plan del usuario"
   ]
  },
  {
   "cell_type": "markdown",
   "id": "40644d64",
   "metadata": {},
   "source": [
    "## Limpieza"
   ]
  },
  {
   "cell_type": "markdown",
   "id": "943162ac",
   "metadata": {},
   "source": [
    "Para poder procesar la información, hay que asegurarse que todas las columnas con las que se va a trabajar tienen el tipo de dato adecuado y confirmar la integridad de la información"
   ]
  },
  {
   "cell_type": "code",
   "execution_count": 4,
   "id": "e113869e",
   "metadata": {},
   "outputs": [
    {
     "name": "stdout",
     "output_type": "stream",
     "text": [
      "<class 'pandas.core.frame.DataFrame'>\n",
      "RangeIndex: 710721 entries, 0 to 710720\n",
      "Data columns (total 13 columns):\n",
      " #   Column              Non-Null Count   Dtype  \n",
      "---  ------              --------------   -----  \n",
      " 0   ride_id             710721 non-null  object \n",
      " 1   rideable_type       710721 non-null  object \n",
      " 2   started_at          710721 non-null  object \n",
      " 3   ended_at            710721 non-null  object \n",
      " 4   start_station_name  566696 non-null  object \n",
      " 5   start_station_id    566696 non-null  object \n",
      " 6   end_station_name    562694 non-null  object \n",
      " 7   end_station_id      562694 non-null  object \n",
      " 8   start_lat           710721 non-null  float64\n",
      " 9   start_lng           710721 non-null  float64\n",
      " 10  end_lat             709597 non-null  float64\n",
      " 11  end_lng             709597 non-null  float64\n",
      " 12  member_casual       710721 non-null  object \n",
      "dtypes: float64(4), object(9)\n",
      "memory usage: 70.5+ MB\n"
     ]
    }
   ],
   "source": [
    "df.info()"
   ]
  },
  {
   "cell_type": "markdown",
   "id": "bf1100a0",
   "metadata": {},
   "source": [
    "Las columnas `started_at` y `ended_at` tienen un tipo de dato incorrecto"
   ]
  },
  {
   "cell_type": "code",
   "execution_count": 5,
   "id": "ea1902e7",
   "metadata": {
    "scrolled": true
   },
   "outputs": [
    {
     "name": "stdout",
     "output_type": "stream",
     "text": [
      "<class 'pandas.core.frame.DataFrame'>\n",
      "RangeIndex: 710721 entries, 0 to 710720\n",
      "Data columns (total 13 columns):\n",
      " #   Column              Non-Null Count   Dtype         \n",
      "---  ------              --------------   -----         \n",
      " 0   ride_id             710721 non-null  object        \n",
      " 1   rideable_type       710721 non-null  object        \n",
      " 2   started_at          710721 non-null  datetime64[ns]\n",
      " 3   ended_at            710721 non-null  datetime64[ns]\n",
      " 4   start_station_name  566696 non-null  object        \n",
      " 5   start_station_id    566696 non-null  object        \n",
      " 6   end_station_name    562694 non-null  object        \n",
      " 7   end_station_id      562694 non-null  object        \n",
      " 8   start_lat           710721 non-null  float64       \n",
      " 9   start_lng           710721 non-null  float64       \n",
      " 10  end_lat             709597 non-null  float64       \n",
      " 11  end_lng             709597 non-null  float64       \n",
      " 12  member_casual       710721 non-null  object        \n",
      "dtypes: datetime64[ns](2), float64(4), object(7)\n",
      "memory usage: 70.5+ MB\n"
     ]
    }
   ],
   "source": [
    "df['started_at'] = pd.to_datetime(df['started_at'])\n",
    "df['ended_at'] = pd.to_datetime(df['ended_at'])\n",
    "df.info()"
   ]
  },
  {
   "cell_type": "markdown",
   "id": "0108ede0",
   "metadata": {},
   "source": [
    "Con las columnas corregidas, se van a agregar 3 columnas `ride_length`, `ride_length_seconds` y `day_of_week` con la duración del viaje, la duración del viaje en segundos y el día de la semana en que comenzó el viaje"
   ]
  },
  {
   "cell_type": "markdown",
   "id": "22750cd4",
   "metadata": {},
   "source": [
    "### Creación columnas `ride_length` y `ride_length_seconds`"
   ]
  },
  {
   "cell_type": "code",
   "execution_count": 6,
   "id": "d3ccc051",
   "metadata": {},
   "outputs": [
    {
     "data": {
      "text/html": [
       "<div>\n",
       "<style scoped>\n",
       "    .dataframe tbody tr th:only-of-type {\n",
       "        vertical-align: middle;\n",
       "    }\n",
       "\n",
       "    .dataframe tbody tr th {\n",
       "        vertical-align: top;\n",
       "    }\n",
       "\n",
       "    .dataframe thead th {\n",
       "        text-align: right;\n",
       "    }\n",
       "</style>\n",
       "<table border=\"1\" class=\"dataframe\">\n",
       "  <thead>\n",
       "    <tr style=\"text-align: right;\">\n",
       "      <th></th>\n",
       "      <th>ride_id</th>\n",
       "      <th>rideable_type</th>\n",
       "      <th>started_at</th>\n",
       "      <th>ended_at</th>\n",
       "      <th>start_station_name</th>\n",
       "      <th>start_station_id</th>\n",
       "      <th>end_station_name</th>\n",
       "      <th>end_station_id</th>\n",
       "      <th>start_lat</th>\n",
       "      <th>start_lng</th>\n",
       "      <th>end_lat</th>\n",
       "      <th>end_lng</th>\n",
       "      <th>member_casual</th>\n",
       "      <th>ride_length</th>\n",
       "      <th>ride_length_seconds</th>\n",
       "    </tr>\n",
       "  </thead>\n",
       "  <tbody>\n",
       "    <tr>\n",
       "      <th>0</th>\n",
       "      <td>CDE6023BE6B11D2F</td>\n",
       "      <td>electric_bike</td>\n",
       "      <td>2024-06-11 17:20:06.289</td>\n",
       "      <td>2024-06-11 17:21:39.464</td>\n",
       "      <td>NaN</td>\n",
       "      <td>NaN</td>\n",
       "      <td>NaN</td>\n",
       "      <td>NaN</td>\n",
       "      <td>41.89</td>\n",
       "      <td>-87.65</td>\n",
       "      <td>41.89</td>\n",
       "      <td>-87.65</td>\n",
       "      <td>casual</td>\n",
       "      <td>0 days 00:01:33.175000</td>\n",
       "      <td>93.175</td>\n",
       "    </tr>\n",
       "    <tr>\n",
       "      <th>1</th>\n",
       "      <td>462B48CD292B6A18</td>\n",
       "      <td>electric_bike</td>\n",
       "      <td>2024-06-11 17:19:21.567</td>\n",
       "      <td>2024-06-11 17:19:36.377</td>\n",
       "      <td>NaN</td>\n",
       "      <td>NaN</td>\n",
       "      <td>NaN</td>\n",
       "      <td>NaN</td>\n",
       "      <td>41.89</td>\n",
       "      <td>-87.65</td>\n",
       "      <td>41.89</td>\n",
       "      <td>-87.65</td>\n",
       "      <td>casual</td>\n",
       "      <td>0 days 00:00:14.810000</td>\n",
       "      <td>14.810</td>\n",
       "    </tr>\n",
       "    <tr>\n",
       "      <th>2</th>\n",
       "      <td>9CFB6A858D23ABF7</td>\n",
       "      <td>electric_bike</td>\n",
       "      <td>2024-06-11 17:25:27.089</td>\n",
       "      <td>2024-06-11 17:30:13.035</td>\n",
       "      <td>NaN</td>\n",
       "      <td>NaN</td>\n",
       "      <td>NaN</td>\n",
       "      <td>NaN</td>\n",
       "      <td>41.93</td>\n",
       "      <td>-87.65</td>\n",
       "      <td>41.94</td>\n",
       "      <td>-87.65</td>\n",
       "      <td>casual</td>\n",
       "      <td>0 days 00:04:45.946000</td>\n",
       "      <td>285.946</td>\n",
       "    </tr>\n",
       "    <tr>\n",
       "      <th>3</th>\n",
       "      <td>6365EFEB64231153</td>\n",
       "      <td>electric_bike</td>\n",
       "      <td>2024-06-11 11:53:50.769</td>\n",
       "      <td>2024-06-11 12:08:13.382</td>\n",
       "      <td>NaN</td>\n",
       "      <td>NaN</td>\n",
       "      <td>NaN</td>\n",
       "      <td>NaN</td>\n",
       "      <td>41.88</td>\n",
       "      <td>-87.64</td>\n",
       "      <td>41.88</td>\n",
       "      <td>-87.64</td>\n",
       "      <td>casual</td>\n",
       "      <td>0 days 00:14:22.613000</td>\n",
       "      <td>862.613</td>\n",
       "    </tr>\n",
       "    <tr>\n",
       "      <th>4</th>\n",
       "      <td>BA0323C33134CBA8</td>\n",
       "      <td>electric_bike</td>\n",
       "      <td>2024-06-11 00:11:08.237</td>\n",
       "      <td>2024-06-11 00:11:22.998</td>\n",
       "      <td>NaN</td>\n",
       "      <td>NaN</td>\n",
       "      <td>NaN</td>\n",
       "      <td>NaN</td>\n",
       "      <td>41.94</td>\n",
       "      <td>-87.64</td>\n",
       "      <td>41.94</td>\n",
       "      <td>-87.64</td>\n",
       "      <td>casual</td>\n",
       "      <td>0 days 00:00:14.761000</td>\n",
       "      <td>14.761</td>\n",
       "    </tr>\n",
       "  </tbody>\n",
       "</table>\n",
       "</div>"
      ],
      "text/plain": [
       "            ride_id  rideable_type              started_at  \\\n",
       "0  CDE6023BE6B11D2F  electric_bike 2024-06-11 17:20:06.289   \n",
       "1  462B48CD292B6A18  electric_bike 2024-06-11 17:19:21.567   \n",
       "2  9CFB6A858D23ABF7  electric_bike 2024-06-11 17:25:27.089   \n",
       "3  6365EFEB64231153  electric_bike 2024-06-11 11:53:50.769   \n",
       "4  BA0323C33134CBA8  electric_bike 2024-06-11 00:11:08.237   \n",
       "\n",
       "                 ended_at start_station_name start_station_id  \\\n",
       "0 2024-06-11 17:21:39.464                NaN              NaN   \n",
       "1 2024-06-11 17:19:36.377                NaN              NaN   \n",
       "2 2024-06-11 17:30:13.035                NaN              NaN   \n",
       "3 2024-06-11 12:08:13.382                NaN              NaN   \n",
       "4 2024-06-11 00:11:22.998                NaN              NaN   \n",
       "\n",
       "  end_station_name end_station_id  start_lat  start_lng  end_lat  end_lng  \\\n",
       "0              NaN            NaN      41.89     -87.65    41.89   -87.65   \n",
       "1              NaN            NaN      41.89     -87.65    41.89   -87.65   \n",
       "2              NaN            NaN      41.93     -87.65    41.94   -87.65   \n",
       "3              NaN            NaN      41.88     -87.64    41.88   -87.64   \n",
       "4              NaN            NaN      41.94     -87.64    41.94   -87.64   \n",
       "\n",
       "  member_casual            ride_length  ride_length_seconds  \n",
       "0        casual 0 days 00:01:33.175000               93.175  \n",
       "1        casual 0 days 00:00:14.810000               14.810  \n",
       "2        casual 0 days 00:04:45.946000              285.946  \n",
       "3        casual 0 days 00:14:22.613000              862.613  \n",
       "4        casual 0 days 00:00:14.761000               14.761  "
      ]
     },
     "execution_count": 6,
     "metadata": {},
     "output_type": "execute_result"
    }
   ],
   "source": [
    "df['ride_length']=df['ended_at']-df['started_at']\n",
    "df['ride_length_seconds'] = df['ride_length'].dt.total_seconds()\n",
    "df.head()"
   ]
  },
  {
   "cell_type": "markdown",
   "id": "79745eae",
   "metadata": {},
   "source": [
    "### Creación columna `day_of_week`"
   ]
  },
  {
   "cell_type": "code",
   "execution_count": 7,
   "id": "9a90669d",
   "metadata": {},
   "outputs": [
    {
     "data": {
      "text/html": [
       "<div>\n",
       "<style scoped>\n",
       "    .dataframe tbody tr th:only-of-type {\n",
       "        vertical-align: middle;\n",
       "    }\n",
       "\n",
       "    .dataframe tbody tr th {\n",
       "        vertical-align: top;\n",
       "    }\n",
       "\n",
       "    .dataframe thead th {\n",
       "        text-align: right;\n",
       "    }\n",
       "</style>\n",
       "<table border=\"1\" class=\"dataframe\">\n",
       "  <thead>\n",
       "    <tr style=\"text-align: right;\">\n",
       "      <th></th>\n",
       "      <th>ride_id</th>\n",
       "      <th>rideable_type</th>\n",
       "      <th>started_at</th>\n",
       "      <th>ended_at</th>\n",
       "      <th>start_station_name</th>\n",
       "      <th>start_station_id</th>\n",
       "      <th>end_station_name</th>\n",
       "      <th>end_station_id</th>\n",
       "      <th>start_lat</th>\n",
       "      <th>start_lng</th>\n",
       "      <th>end_lat</th>\n",
       "      <th>end_lng</th>\n",
       "      <th>member_casual</th>\n",
       "      <th>ride_length</th>\n",
       "      <th>ride_length_seconds</th>\n",
       "      <th>day_of_week</th>\n",
       "    </tr>\n",
       "  </thead>\n",
       "  <tbody>\n",
       "    <tr>\n",
       "      <th>0</th>\n",
       "      <td>CDE6023BE6B11D2F</td>\n",
       "      <td>electric_bike</td>\n",
       "      <td>2024-06-11 17:20:06.289</td>\n",
       "      <td>2024-06-11 17:21:39.464</td>\n",
       "      <td>NaN</td>\n",
       "      <td>NaN</td>\n",
       "      <td>NaN</td>\n",
       "      <td>NaN</td>\n",
       "      <td>41.89</td>\n",
       "      <td>-87.65</td>\n",
       "      <td>41.89</td>\n",
       "      <td>-87.65</td>\n",
       "      <td>casual</td>\n",
       "      <td>0 days 00:01:33.175000</td>\n",
       "      <td>93.175</td>\n",
       "      <td>Tuesday</td>\n",
       "    </tr>\n",
       "    <tr>\n",
       "      <th>1</th>\n",
       "      <td>462B48CD292B6A18</td>\n",
       "      <td>electric_bike</td>\n",
       "      <td>2024-06-11 17:19:21.567</td>\n",
       "      <td>2024-06-11 17:19:36.377</td>\n",
       "      <td>NaN</td>\n",
       "      <td>NaN</td>\n",
       "      <td>NaN</td>\n",
       "      <td>NaN</td>\n",
       "      <td>41.89</td>\n",
       "      <td>-87.65</td>\n",
       "      <td>41.89</td>\n",
       "      <td>-87.65</td>\n",
       "      <td>casual</td>\n",
       "      <td>0 days 00:00:14.810000</td>\n",
       "      <td>14.810</td>\n",
       "      <td>Tuesday</td>\n",
       "    </tr>\n",
       "    <tr>\n",
       "      <th>2</th>\n",
       "      <td>9CFB6A858D23ABF7</td>\n",
       "      <td>electric_bike</td>\n",
       "      <td>2024-06-11 17:25:27.089</td>\n",
       "      <td>2024-06-11 17:30:13.035</td>\n",
       "      <td>NaN</td>\n",
       "      <td>NaN</td>\n",
       "      <td>NaN</td>\n",
       "      <td>NaN</td>\n",
       "      <td>41.93</td>\n",
       "      <td>-87.65</td>\n",
       "      <td>41.94</td>\n",
       "      <td>-87.65</td>\n",
       "      <td>casual</td>\n",
       "      <td>0 days 00:04:45.946000</td>\n",
       "      <td>285.946</td>\n",
       "      <td>Tuesday</td>\n",
       "    </tr>\n",
       "    <tr>\n",
       "      <th>3</th>\n",
       "      <td>6365EFEB64231153</td>\n",
       "      <td>electric_bike</td>\n",
       "      <td>2024-06-11 11:53:50.769</td>\n",
       "      <td>2024-06-11 12:08:13.382</td>\n",
       "      <td>NaN</td>\n",
       "      <td>NaN</td>\n",
       "      <td>NaN</td>\n",
       "      <td>NaN</td>\n",
       "      <td>41.88</td>\n",
       "      <td>-87.64</td>\n",
       "      <td>41.88</td>\n",
       "      <td>-87.64</td>\n",
       "      <td>casual</td>\n",
       "      <td>0 days 00:14:22.613000</td>\n",
       "      <td>862.613</td>\n",
       "      <td>Tuesday</td>\n",
       "    </tr>\n",
       "    <tr>\n",
       "      <th>4</th>\n",
       "      <td>BA0323C33134CBA8</td>\n",
       "      <td>electric_bike</td>\n",
       "      <td>2024-06-11 00:11:08.237</td>\n",
       "      <td>2024-06-11 00:11:22.998</td>\n",
       "      <td>NaN</td>\n",
       "      <td>NaN</td>\n",
       "      <td>NaN</td>\n",
       "      <td>NaN</td>\n",
       "      <td>41.94</td>\n",
       "      <td>-87.64</td>\n",
       "      <td>41.94</td>\n",
       "      <td>-87.64</td>\n",
       "      <td>casual</td>\n",
       "      <td>0 days 00:00:14.761000</td>\n",
       "      <td>14.761</td>\n",
       "      <td>Tuesday</td>\n",
       "    </tr>\n",
       "  </tbody>\n",
       "</table>\n",
       "</div>"
      ],
      "text/plain": [
       "            ride_id  rideable_type              started_at  \\\n",
       "0  CDE6023BE6B11D2F  electric_bike 2024-06-11 17:20:06.289   \n",
       "1  462B48CD292B6A18  electric_bike 2024-06-11 17:19:21.567   \n",
       "2  9CFB6A858D23ABF7  electric_bike 2024-06-11 17:25:27.089   \n",
       "3  6365EFEB64231153  electric_bike 2024-06-11 11:53:50.769   \n",
       "4  BA0323C33134CBA8  electric_bike 2024-06-11 00:11:08.237   \n",
       "\n",
       "                 ended_at start_station_name start_station_id  \\\n",
       "0 2024-06-11 17:21:39.464                NaN              NaN   \n",
       "1 2024-06-11 17:19:36.377                NaN              NaN   \n",
       "2 2024-06-11 17:30:13.035                NaN              NaN   \n",
       "3 2024-06-11 12:08:13.382                NaN              NaN   \n",
       "4 2024-06-11 00:11:22.998                NaN              NaN   \n",
       "\n",
       "  end_station_name end_station_id  start_lat  start_lng  end_lat  end_lng  \\\n",
       "0              NaN            NaN      41.89     -87.65    41.89   -87.65   \n",
       "1              NaN            NaN      41.89     -87.65    41.89   -87.65   \n",
       "2              NaN            NaN      41.93     -87.65    41.94   -87.65   \n",
       "3              NaN            NaN      41.88     -87.64    41.88   -87.64   \n",
       "4              NaN            NaN      41.94     -87.64    41.94   -87.64   \n",
       "\n",
       "  member_casual            ride_length  ride_length_seconds day_of_week  \n",
       "0        casual 0 days 00:01:33.175000               93.175     Tuesday  \n",
       "1        casual 0 days 00:00:14.810000               14.810     Tuesday  \n",
       "2        casual 0 days 00:04:45.946000              285.946     Tuesday  \n",
       "3        casual 0 days 00:14:22.613000              862.613     Tuesday  \n",
       "4        casual 0 days 00:00:14.761000               14.761     Tuesday  "
      ]
     },
     "execution_count": 7,
     "metadata": {},
     "output_type": "execute_result"
    }
   ],
   "source": [
    "df['day_of_week'] = df['started_at'].dt.day_name()\n",
    "df.head()"
   ]
  },
  {
   "cell_type": "markdown",
   "id": "a8869823",
   "metadata": {},
   "source": [
    "Cantidad de valores nulos por columna"
   ]
  },
  {
   "cell_type": "code",
   "execution_count": 8,
   "id": "29be17f1",
   "metadata": {
    "scrolled": true
   },
   "outputs": [
    {
     "data": {
      "text/plain": [
       "ride_id                     0\n",
       "rideable_type               0\n",
       "started_at                  0\n",
       "ended_at                    0\n",
       "start_station_name     144025\n",
       "start_station_id       144025\n",
       "end_station_name       148027\n",
       "end_station_id         148027\n",
       "start_lat                   0\n",
       "start_lng                   0\n",
       "end_lat                  1124\n",
       "end_lng                  1124\n",
       "member_casual               0\n",
       "ride_length                 0\n",
       "ride_length_seconds         0\n",
       "day_of_week                 0\n",
       "dtype: int64"
      ]
     },
     "execution_count": 8,
     "metadata": {},
     "output_type": "execute_result"
    }
   ],
   "source": [
    "df.isnull().sum()"
   ]
  },
  {
   "cell_type": "markdown",
   "id": "bcd720f9",
   "metadata": {},
   "source": [
    "El dataset utilizado en este análisis fue obtenido de un sitio de acceso libre, lo que implica que no se tiene la posibilidad de consultar o gestionar los datos faltantes con los responsables de su creación o mantenimiento. Dado que los valores nulos pueden afectar negativamente la calidad y la precisión de cualquier análisis o modelo que se construya a partir de este dataset, se ha decidido eliminar los registros que contienen valores nulos."
   ]
  },
  {
   "cell_type": "code",
   "execution_count": 9,
   "id": "23670d07",
   "metadata": {
    "scrolled": false
   },
   "outputs": [
    {
     "data": {
      "text/plain": [
       "ride_id                0\n",
       "rideable_type          0\n",
       "started_at             0\n",
       "ended_at               0\n",
       "start_station_name     0\n",
       "start_station_id       0\n",
       "end_station_name       0\n",
       "end_station_id         0\n",
       "start_lat              0\n",
       "start_lng              0\n",
       "end_lat                0\n",
       "end_lng                0\n",
       "member_casual          0\n",
       "ride_length            0\n",
       "ride_length_seconds    0\n",
       "day_of_week            0\n",
       "dtype: int64"
      ]
     },
     "execution_count": 9,
     "metadata": {},
     "output_type": "execute_result"
    }
   ],
   "source": [
    "df = df.dropna()\n",
    "df = df.reset_index(drop=True)\n",
    "df.isnull().sum()"
   ]
  },
  {
   "cell_type": "code",
   "execution_count": 10,
   "id": "45247986",
   "metadata": {},
   "outputs": [
    {
     "data": {
      "text/html": [
       "<div>\n",
       "<style scoped>\n",
       "    .dataframe tbody tr th:only-of-type {\n",
       "        vertical-align: middle;\n",
       "    }\n",
       "\n",
       "    .dataframe tbody tr th {\n",
       "        vertical-align: top;\n",
       "    }\n",
       "\n",
       "    .dataframe thead th {\n",
       "        text-align: right;\n",
       "    }\n",
       "</style>\n",
       "<table border=\"1\" class=\"dataframe\">\n",
       "  <thead>\n",
       "    <tr style=\"text-align: right;\">\n",
       "      <th></th>\n",
       "      <th>ride_id</th>\n",
       "      <th>rideable_type</th>\n",
       "      <th>started_at</th>\n",
       "      <th>ended_at</th>\n",
       "      <th>start_station_name</th>\n",
       "      <th>start_station_id</th>\n",
       "      <th>end_station_name</th>\n",
       "      <th>end_station_id</th>\n",
       "      <th>start_lat</th>\n",
       "      <th>start_lng</th>\n",
       "      <th>end_lat</th>\n",
       "      <th>end_lng</th>\n",
       "      <th>member_casual</th>\n",
       "      <th>ride_length</th>\n",
       "      <th>ride_length_seconds</th>\n",
       "      <th>day_of_week</th>\n",
       "    </tr>\n",
       "  </thead>\n",
       "  <tbody>\n",
       "    <tr>\n",
       "      <th>0</th>\n",
       "      <td>7FED56E160AFB564</td>\n",
       "      <td>classic_bike</td>\n",
       "      <td>2024-06-17 15:10:56.895</td>\n",
       "      <td>2024-06-17 15:12:30.744</td>\n",
       "      <td>California Ave &amp; Division St</td>\n",
       "      <td>13256</td>\n",
       "      <td>California Ave &amp; Division St</td>\n",
       "      <td>13256</td>\n",
       "      <td>41.903029</td>\n",
       "      <td>-87.697474</td>\n",
       "      <td>41.903029</td>\n",
       "      <td>-87.697474</td>\n",
       "      <td>casual</td>\n",
       "      <td>0 days 00:01:33.849000</td>\n",
       "      <td>93.849</td>\n",
       "      <td>Monday</td>\n",
       "    </tr>\n",
       "    <tr>\n",
       "      <th>1</th>\n",
       "      <td>84260B28A7C9BBA1</td>\n",
       "      <td>classic_bike</td>\n",
       "      <td>2024-06-17 15:10:35.545</td>\n",
       "      <td>2024-06-17 15:12:12.398</td>\n",
       "      <td>California Ave &amp; Division St</td>\n",
       "      <td>13256</td>\n",
       "      <td>California Ave &amp; Division St</td>\n",
       "      <td>13256</td>\n",
       "      <td>41.903029</td>\n",
       "      <td>-87.697474</td>\n",
       "      <td>41.903029</td>\n",
       "      <td>-87.697474</td>\n",
       "      <td>casual</td>\n",
       "      <td>0 days 00:01:36.853000</td>\n",
       "      <td>96.853</td>\n",
       "      <td>Monday</td>\n",
       "    </tr>\n",
       "    <tr>\n",
       "      <th>2</th>\n",
       "      <td>95367640BB007C8D</td>\n",
       "      <td>classic_bike</td>\n",
       "      <td>2024-06-08 16:11:10.249</td>\n",
       "      <td>2024-06-08 16:21:25.419</td>\n",
       "      <td>California Ave &amp; Division St</td>\n",
       "      <td>13256</td>\n",
       "      <td>California Ave &amp; Milwaukee Ave</td>\n",
       "      <td>13084</td>\n",
       "      <td>41.903029</td>\n",
       "      <td>-87.697474</td>\n",
       "      <td>41.922695</td>\n",
       "      <td>-87.697153</td>\n",
       "      <td>casual</td>\n",
       "      <td>0 days 00:10:15.170000</td>\n",
       "      <td>615.170</td>\n",
       "      <td>Saturday</td>\n",
       "    </tr>\n",
       "    <tr>\n",
       "      <th>3</th>\n",
       "      <td>4DF083CCDC1B950F</td>\n",
       "      <td>electric_bike</td>\n",
       "      <td>2024-06-07 21:33:36.986</td>\n",
       "      <td>2024-06-07 21:45:23.864</td>\n",
       "      <td>California Ave &amp; Division St</td>\n",
       "      <td>13256</td>\n",
       "      <td>Wood St &amp; Chicago Ave</td>\n",
       "      <td>637</td>\n",
       "      <td>41.903013</td>\n",
       "      <td>-87.697619</td>\n",
       "      <td>41.895634</td>\n",
       "      <td>-87.672069</td>\n",
       "      <td>casual</td>\n",
       "      <td>0 days 00:11:46.878000</td>\n",
       "      <td>706.878</td>\n",
       "      <td>Friday</td>\n",
       "    </tr>\n",
       "    <tr>\n",
       "      <th>4</th>\n",
       "      <td>BFAD51AB1A4887B2</td>\n",
       "      <td>classic_bike</td>\n",
       "      <td>2024-06-24 17:51:13.687</td>\n",
       "      <td>2024-06-24 17:56:09.707</td>\n",
       "      <td>California Ave &amp; Milwaukee Ave</td>\n",
       "      <td>13084</td>\n",
       "      <td>California Ave &amp; Milwaukee Ave</td>\n",
       "      <td>13084</td>\n",
       "      <td>41.922695</td>\n",
       "      <td>-87.697153</td>\n",
       "      <td>41.922695</td>\n",
       "      <td>-87.697153</td>\n",
       "      <td>casual</td>\n",
       "      <td>0 days 00:04:56.020000</td>\n",
       "      <td>296.020</td>\n",
       "      <td>Monday</td>\n",
       "    </tr>\n",
       "  </tbody>\n",
       "</table>\n",
       "</div>"
      ],
      "text/plain": [
       "            ride_id  rideable_type              started_at  \\\n",
       "0  7FED56E160AFB564   classic_bike 2024-06-17 15:10:56.895   \n",
       "1  84260B28A7C9BBA1   classic_bike 2024-06-17 15:10:35.545   \n",
       "2  95367640BB007C8D   classic_bike 2024-06-08 16:11:10.249   \n",
       "3  4DF083CCDC1B950F  electric_bike 2024-06-07 21:33:36.986   \n",
       "4  BFAD51AB1A4887B2   classic_bike 2024-06-24 17:51:13.687   \n",
       "\n",
       "                 ended_at              start_station_name start_station_id  \\\n",
       "0 2024-06-17 15:12:30.744    California Ave & Division St            13256   \n",
       "1 2024-06-17 15:12:12.398    California Ave & Division St            13256   \n",
       "2 2024-06-08 16:21:25.419    California Ave & Division St            13256   \n",
       "3 2024-06-07 21:45:23.864    California Ave & Division St            13256   \n",
       "4 2024-06-24 17:56:09.707  California Ave & Milwaukee Ave            13084   \n",
       "\n",
       "                 end_station_name end_station_id  start_lat  start_lng  \\\n",
       "0    California Ave & Division St          13256  41.903029 -87.697474   \n",
       "1    California Ave & Division St          13256  41.903029 -87.697474   \n",
       "2  California Ave & Milwaukee Ave          13084  41.903029 -87.697474   \n",
       "3           Wood St & Chicago Ave            637  41.903013 -87.697619   \n",
       "4  California Ave & Milwaukee Ave          13084  41.922695 -87.697153   \n",
       "\n",
       "     end_lat    end_lng member_casual            ride_length  \\\n",
       "0  41.903029 -87.697474        casual 0 days 00:01:33.849000   \n",
       "1  41.903029 -87.697474        casual 0 days 00:01:36.853000   \n",
       "2  41.922695 -87.697153        casual 0 days 00:10:15.170000   \n",
       "3  41.895634 -87.672069        casual 0 days 00:11:46.878000   \n",
       "4  41.922695 -87.697153        casual 0 days 00:04:56.020000   \n",
       "\n",
       "   ride_length_seconds day_of_week  \n",
       "0               93.849      Monday  \n",
       "1               96.853      Monday  \n",
       "2              615.170    Saturday  \n",
       "3              706.878      Friday  \n",
       "4              296.020      Monday  "
      ]
     },
     "execution_count": 10,
     "metadata": {},
     "output_type": "execute_result"
    }
   ],
   "source": [
    "df.head()"
   ]
  },
  {
   "cell_type": "markdown",
   "id": "196776cc",
   "metadata": {},
   "source": [
    "Código para exportar el archivo sin valores nulos y con las 3 columnas nuevas a un archivo xlsx"
   ]
  },
  {
   "cell_type": "markdown",
   "id": "d12345a7",
   "metadata": {},
   "source": [
    "`df.to_excel(\"data/202406-divvy-tripdata-clean.xlsx\", index=False)`"
   ]
  },
  {
   "cell_type": "markdown",
   "id": "518642ce",
   "metadata": {},
   "source": [
    "## Análisis"
   ]
  },
  {
   "cell_type": "markdown",
   "id": "b059752c",
   "metadata": {},
   "source": [
    "Duración promedio de los viajes"
   ]
  },
  {
   "cell_type": "code",
   "execution_count": 11,
   "id": "043bc0ac",
   "metadata": {
    "scrolled": true
   },
   "outputs": [
    {
     "data": {
      "text/plain": [
       "Timedelta('0 days 00:19:02.617775627')"
      ]
     },
     "execution_count": 11,
     "metadata": {},
     "output_type": "execute_result"
    }
   ],
   "source": [
    "df['ride_length'].mean()"
   ]
  },
  {
   "cell_type": "markdown",
   "id": "b836ada5",
   "metadata": {},
   "source": [
    "Duración promedio de los viajes en miembros y casuales"
   ]
  },
  {
   "cell_type": "code",
   "execution_count": 12,
   "id": "2401f4b3",
   "metadata": {},
   "outputs": [
    {
     "data": {
      "text/plain": [
       "member_casual\n",
       "casual   0 days 00:26:23.957422720\n",
       "member   0 days 00:13:41.031050797\n",
       "Name: ride_length, dtype: timedelta64[ns]"
      ]
     },
     "execution_count": 12,
     "metadata": {},
     "output_type": "execute_result"
    }
   ],
   "source": [
    "df.groupby(['member_casual'])['ride_length'].mean().sort_values(ascending=False)"
   ]
  },
  {
   "cell_type": "markdown",
   "id": "8048ae2b",
   "metadata": {},
   "source": [
    "Duración más larga de un viaje"
   ]
  },
  {
   "cell_type": "code",
   "execution_count": 13,
   "id": "7bba1ad5",
   "metadata": {},
   "outputs": [
    {
     "data": {
      "text/plain": [
       "member_casual\n",
       "casual   1 days 00:56:19.856000\n",
       "member   1 days 00:48:12.280000\n",
       "Name: ride_length, dtype: timedelta64[ns]"
      ]
     },
     "execution_count": 13,
     "metadata": {},
     "output_type": "execute_result"
    }
   ],
   "source": [
    "df.groupby(['member_casual'])['ride_length'].max().sort_values(ascending=False)"
   ]
  },
  {
   "cell_type": "markdown",
   "id": "bdd6ca81",
   "metadata": {},
   "source": [
    "Días con más viajes ordenados de mayor cantidad a menor"
   ]
  },
  {
   "cell_type": "code",
   "execution_count": 14,
   "id": "79b749b2",
   "metadata": {},
   "outputs": [
    {
     "data": {
      "text/plain": [
       "day_of_week\n",
       "Sunday       88009\n",
       "Saturday     80271\n",
       "Wednesday    70958\n",
       "Thursday     67412\n",
       "Friday       65410\n",
       "Tuesday      61774\n",
       "Monday       60492\n",
       "Name: day_of_week, dtype: int64"
      ]
     },
     "execution_count": 14,
     "metadata": {},
     "output_type": "execute_result"
    }
   ],
   "source": [
    "df.groupby(['day_of_week'])['day_of_week'].count().sort_values(ascending=False)"
   ]
  },
  {
   "cell_type": "markdown",
   "id": "b0a396f5",
   "metadata": {},
   "source": [
    "Cantidad de miembros y casuales que han utilizado el servicio"
   ]
  },
  {
   "cell_type": "code",
   "execution_count": 15,
   "id": "e592f97a",
   "metadata": {
    "scrolled": true
   },
   "outputs": [
    {
     "data": {
      "text/plain": [
       "member_casual\n",
       "member    285959\n",
       "casual    208367\n",
       "Name: member_casual, dtype: int64"
      ]
     },
     "execution_count": 15,
     "metadata": {},
     "output_type": "execute_result"
    }
   ],
   "source": [
    "df.groupby(['member_casual'])['member_casual'].count().sort_values(ascending=False)"
   ]
  },
  {
   "cell_type": "markdown",
   "id": "cae122b2",
   "metadata": {},
   "source": [
    "## Visualización"
   ]
  },
  {
   "cell_type": "markdown",
   "id": "631d678d",
   "metadata": {},
   "source": [
    "Las visualizaciones se hicieron con la herramienta Tableau"
   ]
  },
  {
   "attachments": {
    "Dashboard%201.png": {
     "image/png": "[encoded data removed]"
    }
   },
   "cell_type": "markdown",
   "id": "73475292",
   "metadata": {},
   "source": [
    "![Dashboard%201.png](attachment:Dashboard%201.png)"
   ]
  },
  {
   "cell_type": "markdown",
   "id": "ae7bd6e3",
   "metadata": {},
   "source": [
    "## Recomendaciones"
   ]
  },
  {
   "cell_type": "markdown",
   "id": "6b3a0794",
   "metadata": {},
   "source": [
    "- **Plan de horas pico:** Implementar un plan con precio reducido para viajes realizados entre las 17:00 y las 19:00 horas. Este plan podría ser exclusivo para miembros o estar disponible para todos los usuarios.\n",
    "- **Pase de fin de semana:** Crear un pase especial que permita a los usuarios utilizar el servicio de forma ilimitada durante todo el fin de semana (sábado y domingo). Este pase podría tener un precio atractivo para los usuarios casuales que utilizan el servicio con mayor frecuencia durante esos días."
   ]
  }
 ],
 "metadata": {
  "kernelspec": {
   "display_name": "Python 3 (ipykernel)",
   "language": "python",
   "name": "python3"
  },
  "language_info": {
   "codemirror_mode": {
    "name": "ipython",
    "version": 3
   },
   "file_extension": ".py",
   "mimetype": "text/x-python",
   "name": "python",
   "nbconvert_exporter": "python",
   "pygments_lexer": "ipython3",
   "version": "3.7.1"
  }
 },
 "nbformat": 4,
 "nbformat_minor": 5
}
